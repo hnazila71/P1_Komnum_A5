{
  "nbformat": 4,
  "nbformat_minor": 0,
  "metadata": {
    "colab": {
      "provenance": [],
      "collapsed_sections": [],
      "include_colab_link": true
    },
    "kernelspec": {
      "name": "python3",
      "display_name": "Python 3"
    },
    "language_info": {
      "name": "python"
    }
  },
  "cells": [
    {
      "cell_type": "markdown",
      "metadata": {
        "id": "view-in-github",
        "colab_type": "text"
      },
      "source": [
        "<a href=\"https://colab.research.google.com/github/hnazila71/P1_Komnum_A5/blob/main/kel5.ipynb\" target=\"_parent\"><img src=\"https://colab.research.google.com/assets/colab-badge.svg\" alt=\"Open In Colab\"/></a>"
      ]
    },
    {
      "cell_type": "code",
      "execution_count": null,
      "metadata": {
        "colab": {
          "base_uri": "https://localhost:8080/"
        },
        "id": "OtbMBW9Fr6Gc",
        "outputId": "2280e7fb-906a-4dde-d268-942a98474ee0"
      },
      "outputs": [
        {
          "output_type": "stream",
          "name": "stdout",
          "text": [
            "iteration 1 is -5.0000\n",
            "iteration 2 is 1.5000\n",
            "iteration 3 is 4.7500\n",
            "iteration 4 is 3.1250\n",
            "iteration 5 is 3.9375\n",
            "iteration 6 is 4.3438\n",
            "iteration 7 is 4.1406\n",
            "iteration 8 is 4.0391\n",
            "iteration 9 is 3.9883\n",
            "iteration 10 is 4.0137\n",
            "iteration 11 is 4.0010\n",
            "iteration 12 is 3.9946\n",
            "The value of root is : 3.9946\n",
            "The number of iteration is : 12\n"
          ]
        }
      ],
      "source": [
        "from pylab import *\n",
        "\n",
        "def func(x):\n",
        "   return x*x*x + 10*x*x - 7*x - 196\n",
        "\n",
        "def bisection(a,b):\n",
        "    ## check batas atas dan bawah\n",
        "    ## jika nilai 0 atau positif artinya salah satu dari a atau b ada yang kurang tepat\n",
        "    if (func(a) * func(b) >= 0):\n",
        "      if a == b:\n",
        "        print(\"Value tidak boleh sama\")\n",
        "      elif a == 0:\n",
        "        print(\"Value A tidak boleh 0\")\n",
        "      elif b == 0:\n",
        "        print(\"Value B tidak boleh 0\")\n",
        "      elif a > 0 and b > 0:\n",
        "        print(\"Salah satu value harus negatif\")\n",
        "      elif a < 0 and b < 0:\n",
        "        print(\"Salah satu value harus positif\")\n",
        "      return\n",
        "\n",
        "    f=1  \n",
        "    c = a\n",
        "\n",
        "    print(\"iteration\",\"%d\"%f, \"is\", \"%.4f\"%c)\n",
        "\n",
        "    ## fungsi iterasi\n",
        "\n",
        "    ## Akurasi hingga 2 digit dibelakang koma\n",
        "    while ((b-a) >= 0.01):\n",
        "        f=f+1\n",
        "        # if f == 3:\n",
        "        #   break\n",
        "\n",
        "        c = (a+b)/2\n",
        "        \n",
        "  \n",
        "        if (func(c) == 0.0):\n",
        "            break\n",
        "        \n",
        "        A = func(a)\n",
        "        B = func(b)\n",
        "\n",
        "        # print(\"%.4f\"%A,\" , \",\"%.4f\\n\"%B)\n",
        "   \n",
        "        if (func(c)*func(a) < 0):\n",
        "            b = c\n",
        "        else:\n",
        "            a = c\n",
        "        \n",
        "        print(\"iteration\",\"%d\"%f, \"is\", \"%.4f\"%c)\n",
        "             \n",
        "    print(\"The value of root is :\",\"%.4f\"%c)\n",
        "    print(\"The number of iteration is :\",\"%d\"%f)\n",
        "\n",
        "a = -5\n",
        "b = 8\n",
        "\n",
        "\n",
        "bisection(a,b)"
      ]
    },
    {
      "cell_type": "code",
      "source": [
        "x = linspace(-3,3,10)\n",
        "plot(x,func(x))\n",
        "xlabel('x values')\n",
        "ylabel('y values')\n",
        "title('Bisection graph')\n",
        "grid(True)\n",
        "show()"
      ],
      "metadata": {
        "colab": {
          "base_uri": "https://localhost:8080/",
          "height": 295
        },
        "id": "OEF5q7LJ_w1Z",
        "outputId": "a9708eaa-2bd4-4115-8147-e7f1b2c393c5"
      },
      "execution_count": null,
      "outputs": [
        {
          "output_type": "display_data",
          "data": {
            "text/plain": [
              "<Figure size 432x288 with 1 Axes>"
            ],
            "image/png": "[encoded data removed]"
          },
          "metadata": {
            "needs_background": "light"
          }
        }
      ]
    }
  ]
}